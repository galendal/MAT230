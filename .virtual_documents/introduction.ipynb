


import numpy as np # Import the numpy library
from scipy.integrate import solve_ivp # Import the solver

import matplotlib.pyplot as plt # Import the matplotlib library

# Define the exponential growth differential equation
def exponential_growth(t, y, growth_rate):
    return growth_rate * y

# Parameters
growth_rate = 0.1  # Growth rate
y0 = [1]  # Initial condition
t_span = (0, 50)  # Time span for the solution

# Solve the differential equation
solution = solve_ivp(exponential_growth, t_span, y0, args=(growth_rate,), dense_output=True)

# Create time points for plotting
t = np.linspace(t_span[0], t_span[1], 300)
y = solution.sol(t)

# Plot the solution
plt.plot(t, y.T)
plt.xlabel('Time')
plt.ylabel('Population')
plt.title(f'Exponential Growth r={growth_rate}')
plt.grid()
plt.show()






