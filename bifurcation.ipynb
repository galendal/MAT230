{
 "cells": [
  {
   "cell_type": "markdown",
   "metadata": {},
   "source": [
    "#Bifurcation\n"
   ]
  },
  {
   "cell_type": "code",
   "execution_count": 1,
   "metadata": {},
   "outputs": [],
   "source": [
    "import numpy as np\n",
    "import scipy as sc\n",
    "import matplotlib.pyplot as plt\n",
    "from ipywidgets import interact, interactive, fixed, interact_manual\n",
    "import ipywidgets as widgets\n",
    "import sympy as sp\n",
    "\n",
    "#%matplotlib inline"
   ]
  },
  {
   "cell_type": "markdown",
   "metadata": {},
   "source": [
    "The functions defined earlier. \n",
    "\n",
    "Notice, we have added the possibility to pass arguments to the solver. "
   ]
  },
  {
   "cell_type": "code",
   "execution_count": 2,
   "metadata": {},
   "outputs": [],
   "source": [
    "def plot_flow(ax,rhs,xrange=[-2.5,2.5],yrange=[-2.5,2.5],xnum=100,ynum=100,nullclines=False,args=None):\n",
    "\n",
    "    # Set up u,v space\n",
    "    u = np.linspace(xrange[0], xrange[1], xnum)\n",
    "    v = np.linspace(yrange[0], yrange[1], ynum)\n",
    "    uu, vv = np.meshgrid(u, v)\n",
    "\n",
    "# Compute derivatives\n",
    "    u_vel = np.empty_like(uu)\n",
    "    v_vel = np.empty_like(vv)\n",
    "    for i in range(uu.shape[0]):\n",
    "        for j in range(uu.shape[1]):\n",
    "            u_vel[i,j], v_vel[i,j] = rhs(0,np.array([uu[i,j], vv[i,j]]),args)\n",
    "\n",
    "\n",
    "# Make stream plot\n",
    "    ax.streamplot(uu, vv, u_vel, v_vel,color='grey')\n",
    "#Nullclines\n",
    "    if nullclines: \n",
    "        ax.contour(uu, vv, u_vel, [0],colors=('r'))\n",
    "        ax.contour(uu, vv, v_vel, [0],colors=('b'))\n",
    "\n",
    "    return ax\n",
    "\n",
    "# A function that plots a path \n",
    "# def plot_solution(ax,rhs,y0,t_end,t_dim=2000,color='green',init_pt=True,linewidth=2.5):\n",
    "\n",
    "#     t = np.linspace(0, t_end, t_dim)\n",
    "#     X = sc.integrate.solve_ivp(rhs,t_span=[t[0],t[-1]],y0=y0,t_eval=t)\n",
    "#     x,y=X.y\n",
    "#     t=X.t\n",
    "#     ax.plot(x,y, color=color,linewidth=linewidth)\n",
    "#     if (init_pt):\n",
    "#         ax=plot_point(ax,y0,color=color)\n",
    "#     return ax\n",
    "\n",
    "def get_solution(rhs, y0, t_end, t_dim=2000,args=None):\n",
    "    t = np.linspace(0, t_end, t_dim)\n",
    "    sol = sc.integrate.solve_ivp(rhs, t_span=[t[0], t[-1]], y0=y0, t_eval=t,args=args)\n",
    "    return sol\n",
    "\n",
    "def plot_solution(ax, rhs, y0, t_end, t_dim=2000, color='green', init_pt=True, linewidth=2.5, linestyle='-',args=None):\n",
    "    sol = get_solution(rhs, y0, t_end, t_dim,args)\n",
    "    x, y = sol.y\n",
    "    ax.plot(x, y, color=color, linewidth=linewidth,linestyle=linestyle)\n",
    "    if init_pt:\n",
    "        ax = plot_point(ax, y0, color=color)\n",
    "    return ax\n",
    "\n",
    "def plot_point(ax, coord, color='black',markersize=20):\n",
    "    \"\"\"Add fixed points to plot.\"\"\"\n",
    "    x,y=coord\n",
    "    ax.plot(x,y, '.', color='black', markerfacecolor=color, markersize=markersize)\n",
    "    return ax\n",
    "\n",
    "\n",
    "def jacobian(rhs, xy, eps=1e-8,args=None):\n",
    "    \"\"\"\n",
    "    Compute the Jacobian matrix of a system of differential equations at a given point.\n",
    "    Parameters:\n",
    "    rhs (function): The right-hand side function of the differential equations. It should take two arguments: time (t) and state (xy).\n",
    "    xy (array-like): The point (x, y) at which to evaluate the Jacobian.\n",
    "    eps (float, optional): A small perturbation value for numerical differentiation. Default is 1e-8.\n",
    "    Returns:\n",
    "    numpy.ndarray: A 2x2 Jacobian matrix evaluated at the point (x, y).\n",
    "    Note:\n",
    "    This function uses finite differences to approximate the partial derivatives.\n",
    "\n",
    "    WARNING: The code and comment are from Gemini, use at own risk. \n",
    "    \"\"\"\n",
    "\n",
    "    \n",
    "    f0 = np.array(rhs(0, xy,args))\n",
    "    jac = np.zeros((2, 2))\n",
    "    \n",
    "    for i in range(2):\n",
    "        dxy = np.zeros(2)\n",
    "        dxy[i] = eps\n",
    "        f1 = np.array(rhs(0, xy + dxy,args))\n",
    "        jac[:, i] = (f1 - f0) / eps\n",
    "    \n",
    "    return jac\n",
    "\n",
    "def eigenvalues_eigenvectors(jac):\n",
    "    \"\"\"\n",
    "    Calculate the eigenvalues and eigenvectors of a given Jacobian matrix.\n",
    "    Parameters:\n",
    "    jac (numpy.ndarray): A square matrix representing the Jacobian matrix.\n",
    "    Returns:\n",
    "    tuple: A tuple containing two elements:\n",
    "        - eigenvalues (numpy.ndarray): An array of eigenvalues.\n",
    "        - eigenvectors (numpy.ndarray): An array of eigenvectors, where each column is an eigenvector corresponding to the eigenvalue at the same index.\n",
    "\n",
    "\n",
    "    WARNING: The code and comment are from Gemini, use at own risk. \n",
    "    \"\"\"\n",
    "\n",
    "    eigenvalues, eigenvectors = np.linalg.eig(jac)\n",
    "    return eigenvalues, eigenvectors\n",
    "\n",
    "\n",
    "\n",
    "\n",
    "\n",
    "def plot_jordan(ax,rhs,r0=[0,0],rr=1,num=25,vectors=True, color='blue',linewidth=1.5,linestyle='dashed',args=None):\n",
    "    theta=np.linspace(0,2*np.pi, num)\n",
    "    x=rr*np.cos(theta)+r0[0]\n",
    "    y=rr*np.sin(theta)+r0[1]\n",
    "    ax.plot(x,y,linewidth=linewidth, color=color)\n",
    "    if vectors:\n",
    "        U,V=rhs(0,[x,y],args)\n",
    "        ax.quiver(x,y,U,V)\n",
    "\n",
    "    return ax\n",
    "\n",
    "\n",
    "\n",
    "\n",
    "def winding_number(rhs, r0, rr, num=1000,args=None):\n",
    "    theta = np.linspace(0, 2 * np.pi, num)\n",
    "    x = rr * np.cos(theta) + r0[0]\n",
    "    y = rr * np.sin(theta) + r0[1]\n",
    "    \n",
    "    F,G=rhs(0,[x,y],args)\n",
    "    angles = np.arctan2(G, F)\n",
    "    integrated_angle = np.sum(np.diff(np.unwrap(angles)))\n",
    "    \n",
    "    return integrated_angle / (2 * np.pi)\n",
    "\n"
   ]
  },
  {
   "cell_type": "code",
   "execution_count": 18,
   "metadata": {},
   "outputs": [],
   "source": [
    "def plot_func(mu): # This function calculates the \n",
    "    fig, ax = plt.subplots(1, 1, figsize=(4, 4)) \n",
    "    ax.set_xlabel('X')\n",
    "    ax.set_ylabel('Y')\n",
    "    #ax.set_aspect('equal')\n",
    "    xrange=[-2,2]\n",
    "    x=np.linspace(xrange[0],xrange[1],100)\n",
    "\n",
    "    y= f_numeric(x,mu) # The function\n",
    "    for i in range(0, len(x), 5):\n",
    "        ax.arrow(x[i], 0,  np.sign(y[i])*0.1,0, head_width=0.2, head_length=0.1, fc='red', ec='red')\n",
    "    \n",
    "    ax.plot(x,y)\n",
    "    ax.set_title(f'{func}')\n",
    "    plt.axhline(0, color='black', linewidth=.5)\n",
    "    plt.axvline(0, color='black', linewidth=.5)\n",
    "    ax.set_ylim([-5,5])\n",
    "    plt.show()\n",
    "    \n",
    "    \n",
    "\n",
    "\n",
    "\n",
    "from scipy.optimize import fsolve\n",
    "def bifurcation_diagram(f_numeric, dfdx_numeric, mu_values):\n",
    "    # Initialize lists to store the fixed points\n",
    "    fixed_points = []\n",
    "\n",
    "    # Find the fixed points for each value of mu\n",
    "    for mu_val in mu_values:\n",
    "        # Define the function to find the roots\n",
    "        func_numeric = lambda x: f_numeric(x, mu_val)\n",
    "        \n",
    "        # Find the roots using a numerical solver\n",
    "        roots = fsolve(func_numeric, [-2, 2])\n",
    "        \n",
    "        # Store the roots\n",
    "        fixed_points.append(roots)\n",
    "\n",
    "    # Convert the fixed points to a numpy array for plotting\n",
    "    fixed_points = np.array(fixed_points, dtype=float)\n",
    "    \n",
    "    # Determine the stability of the fixed points\n",
    "    stability = []\n",
    "    for mu_val, roots in zip(mu_values, fixed_points):\n",
    "        stability_mu = []\n",
    "        for root in roots:\n",
    "            jacobian_val = dfdx_numeric(root, mu_val)\n",
    "            if jacobian_val < 0:\n",
    "                stability_mu.append('stable')\n",
    "            else:\n",
    "                stability_mu.append('unstable')\n",
    "        stability.append(stability_mu)\n",
    "\n",
    "    # Plot the bifurcation diagram with stability\n",
    "    plt.figure(figsize=(5, 3))\n",
    "    for i in range(fixed_points.shape[1]):\n",
    "        stable_points = np.array([fixed_points[j, i] for j in range(len(stability)) if stability[j][i] == 'stable'])\n",
    "        unstable_points = np.array([fixed_points[j, i] for j in range(len(stability)) if stability[j][i] == 'unstable'])\n",
    "        stable_mu = np.array([mu_values[j] for j in range(len(stability)) if stability[j][i] == 'stable'])\n",
    "        unstable_mu = np.array([mu_values[j] for j in range(len(stability)) if stability[j][i] == 'unstable'])\n",
    "        plt.plot(stable_mu, stable_points, 'b', lw=2, label='Stable' if i == 0 else \"\")\n",
    "        plt.plot(unstable_mu, unstable_points, 'r', lw=2, label='Unstable' if i == 0 else \"\")\n",
    "\n",
    "    plt.xlabel(r'$\\mu$')\n",
    "    plt.ylabel('Fixed Points')\n",
    "    plt.title('Bifurcation Diagram')\n",
    "    plt.legend()\n",
    "    plt.grid(True)\n",
    "    plt.show()\n"
   ]
  },
  {
   "cell_type": "markdown",
   "metadata": {},
   "source": [
    "## Bifurcation in 1D\n",
    "\n",
    "\n",
    "Look at the following 1D problems with a parameter $\\mu$: \n",
    "$$ \\begin{array}{rcl}\n",
    "\\dot{x} &=& \\mu + x^2 \\\\\n",
    "\\dot{x} &=& \\mu - x^2 \\\\\n",
    "\\dot{x} &=& \\mu x - x^3 \\\\\n",
    "\\dot{x} &=& \\mu x + x^3 \\\\\n",
    "\\dot{x} &=& \\mu x + x^3 + x^5 \n",
    "\\end{array}\n",
    "$$\n",
    "\n",
    "Plot the right hand side of the problems for different values of $\\mu$. Based on this, find the fixed point (also called critical points, equilibrium points) and determine their stabilities. \n",
    "\n",
    "A first example below. \n",
    "\n",
    "<font color='green'> Can you draw a bifurcation diagram for each of the functions? <font>"
   ]
  },
  {
   "cell_type": "code",
   "execution_count": 22,
   "metadata": {},
   "outputs": [
    {
     "data": {
      "application/vnd.jupyter.widget-view+json": {
       "model_id": "c766ea61a53b4711b35293a5a4a632cc",
       "version_major": 2,
       "version_minor": 0
      },
      "text/plain": [
       "interactive(children=(FloatSlider(value=0.0, description='mu', max=1.0, min=-1.0), Output()), _dom_classes=('w…"
      ]
     },
     "execution_count": 22,
     "metadata": {},
     "output_type": "execute_result"
    }
   ],
   "source": [
    "# Using sympy\n",
    "# Define symbolic variables\n",
    "x, mu = sp.symbols('x mu')\n",
    "\n",
    "# Define the function dxdt = f(x, r)\n",
    "func = mu + x**2      # Change this line to change the function\n",
    "\n",
    "# Compute its derivative df/dx\n",
    "dfdx = sp.diff(func, x)\n",
    "\n",
    "# Convert symbolic function to numerical functions\n",
    "f_numeric = sp.lambdify((x, mu), func, 'numpy')\n",
    "dfdx_numeric = sp.lambdify((x, mu), dfdx, 'numpy')\n",
    "w = interactive(plot_func, mu=(-1, 1, 0.1))\n",
    "#w.layout.width = 'auto'\n",
    "#w.layout.height = 'auto'\n",
    "w.children[0].value = 0.\n",
    "w"
   ]
  },
  {
   "cell_type": "code",
   "execution_count": 15,
   "metadata": {},
   "outputs": [
    {
     "name": "stderr",
     "output_type": "stream",
     "text": [
      "/var/folders/mt/6thqwmbj5lvfz_9z7jnfcxt80000gn/T/ipykernel_95638/1605345184.py:35: RuntimeWarning: The iteration is not making good progress, as measured by the \n",
      "  improvement from the last ten iterations.\n",
      "  roots = fsolve(func_numeric, [-2, 2])\n",
      "/var/folders/mt/6thqwmbj5lvfz_9z7jnfcxt80000gn/T/ipykernel_95638/1605345184.py:35: RuntimeWarning: The iteration is not making good progress, as measured by the \n",
      "  improvement from the last five Jacobian evaluations.\n",
      "  roots = fsolve(func_numeric, [-2, 2])\n"
     ]
    },
    {
     "data": {
      "image/png": "[encoded data removed]",
      "text/plain": [
       "<Figure size 500x300 with 1 Axes>"
      ]
     },
     "metadata": {},
     "output_type": "display_data"
    }
   ],
   "source": [
    "mu_values = np.linspace(-1, 1, 400)\n",
    "bifurcation_diagram(f_numeric, dfdx_numeric, mu_values)"
   ]
  },
  {
   "cell_type": "markdown",
   "metadata": {},
   "source": [
    "## 2D"
   ]
  },
  {
   "cell_type": "markdown",
   "metadata": {},
   "source": [
    "**Definition 1. on p 164**\n",
    " A vector field $f \\in R^2$, which is continuously differentiable, is called structurally stable if small perturbations in the system $\\dot{\\bf x} = {\\bf f} ({\\bf x})$ leave the qualitative behavior unchanged. If small perturbations cause a change in the qualitative behavior of the system, then f is called structurally unstable."
   ]
  },
  {
   "cell_type": "markdown",
   "metadata": {},
   "source": [
    "**Peixoto’s Theorem in the Plane.** (p164) Let the vector field $\\bf f$ be continuously differentiable on a compact set, say, _D_. Then $\\bf f$ is structurally stable on _D_ if and only if  \n",
    "- the number of critical points and limit cycles is finite and each is hyperbolic;  \n",
    "-  there are no trajectories connecting saddle points to saddle points.\n",
    "\n"
   ]
  },
  {
   "cell_type": "markdown",
   "metadata": {},
   "source": [
    "### Examples\n",
    "Look at the following 2D problems: \n",
    "$$ \\begin{array}{rclrcll}\n",
    "\n",
    "\\dot{x} &=& \\mu - x^2 & \\dot{y} &=&-y \\hspace{1cm}  & {Saddle \\ node}\\\\ \n",
    "\\dot{x} &=& \\mu x - x^2 & \\dot{y} &=&-y & {Transcritical}\\\\ \n",
    "\\dot{x} &=& \\mu x - x^3 & \\dot{y} &=&-y & {Supercritical \\ pitchfork}\\\\ \n",
    "\\dot{x} &=& \\mu x + x^3 & \\dot{y} &=&-y & {Subcritical \\ pitchfork}\\\\ \n",
    "\n",
    "\\dot{x} &=& (\\mu- (x^2 + y^2))x-y & \\dot{y} &=&(\\mu- (x^2 + y^2))y+x & {Supercritical \\ Hopf}\\\\ \n",
    "\\end{array}\n",
    "$$\n",
    "\n",
    "Plot the flow for different values of the parameter $\\mu$.\n",
    "\n",
    "The functions evaluating the right hand side are given below. \n"
   ]
  },
  {
   "cell_type": "code",
   "execution_count": 80,
   "metadata": {},
   "outputs": [],
   "source": [
    "def rhs_sn(t,xy,mu=-1):\n",
    "    x,y=xy\n",
    "    dx=mu-x**2\n",
    "    dy=-y\n",
    "    return [dx,dy]\n",
    "\n",
    "def rhs_transcrit(t,xy,mu=-1):\n",
    "    x,y=xy\n",
    "    dx=mu*x-x**2\n",
    "    dy=-y\n",
    "    return [dx,dy]\n",
    "\n",
    "def rhs_super_pitch(t,xy,mu=-1):\n",
    "    x,y=xy\n",
    "    dx=mu*x-x**3\n",
    "    dy=-y\n",
    "    return [dx,dy]\n",
    "\n",
    "def rhs_sub_pitch(t,xy,mu=-1):\n",
    "    x,y=xy\n",
    "    dx=mu*x+x**3\n",
    "    dy=-y\n",
    "    return [dx,dy]\n",
    "\n",
    "def rhs_sup_hopf(t,xy,mu=-1):\n",
    "    x,y=xy\n",
    "    dx=(mu-(x**2+y**2))*x-y\n",
    "    dy=(mu-(x**2+y**2))*y+x\n",
    "    return [dx,dy]\n"
   ]
  },
  {
   "cell_type": "markdown",
   "metadata": {},
   "source": [
    "## Saddle node bifurcation\n"
   ]
  },
  {
   "cell_type": "code",
   "execution_count": 90,
   "metadata": {},
   "outputs": [
    {
     "data": {
      "application/vnd.jupyter.widget-view+json": {
       "model_id": "45a5aab7c7ca41619a4969b4898e6e41",
       "version_major": 2,
       "version_minor": 0
      },
      "text/plain": [
       "interactive(children=(FloatSlider(value=1.0, description='mu', max=1.0, min=-1.0, step=0.05), Output()), _dom_…"
      ]
     },
     "execution_count": 90,
     "metadata": {},
     "output_type": "execute_result"
    }
   ],
   "source": [
    "rhs=rhs_sub_pitch\n",
    "def plot_func(mu):\n",
    "    fig, ax = plt.subplots(1, 1)\n",
    "    ax.set_xlabel('X')\n",
    "    ax.set_ylabel('Y')\n",
    "    ax.set_aspect('equal')\n",
    "\n",
    "    ax=plot_flow(ax,rhs,xrange=[-2,2],yrange=[-2,2],nullclines=True,  args=mu)\n",
    "    ax=plot_solution(ax,rhs,[0,2],t_end=10, color='green', init_pt=True, linewidth=2.5,args=[mu])\n",
    "    ax=plot_solution(ax,rhs,[1,2],t_end=10, color='red', init_pt=True, linewidth=2.5,args=[mu])\n",
    "    ax=plot_solution(ax,rhs,[-1,2],t_end=10, color='green', init_pt=True, linewidth=2.5,args=[mu])\n",
    "    ax=plot_solution(ax,rhs,[-0.5,2],t_end=10, color='green', init_pt=True, linewidth=2.5,args=[mu])\n",
    "\n",
    "    ax.set_xlim([-2, 2])\n",
    "    ax.set_ylim([-2, 2])\n",
    "    plt.show()\n",
    "w=interactive(plot_func, mu=(-1,1,0.05))\n",
    "w.children[0].value = 1\n",
    "w"
   ]
  },
  {
   "cell_type": "markdown",
   "metadata": {},
   "source": [
    "<font color='green'> Investigate the other functions. <font>"
   ]
  },
  {
   "cell_type": "markdown",
   "metadata": {},
   "source": [
    "# Hopf bifurcation\n",
    "## Super critical Hopf bifurcation\n",
    "A stable spiral becomes an unstable spiral with a stable limit cycle in the surrounding. \n",
    "\n",
    "$$ \\begin{array}{rcl}\n",
    "\\dot{x} &=& (\\mu - (x^2+y^2))x-y \\\\\n",
    "\\dot{y} &=&(\\mu-(x^2+y^2))y+x \\\\ \n",
    "\\end{array}\n",
    "$$\n",
    "Origin is an equilibrium point. \n",
    "\n",
    "Linear stability analysis gives eigenvalues $\\lambda=\\mu\\pm i$. <font color='green'>\n",
    "Show this.</font>. Indicating a center at $\\mu=0$.\n",
    "\n",
    "In polar coordinates <font color='green'>\n",
    "Show this also.</font>\n",
    "$$ \\begin{array}{rcl}\n",
    "\n",
    "\\dot{r} &=& \\mu r - r^3 = r(\\mu-r^2) \\\\\n",
    "\\dot{\\theta} &=&-1 \\\\ \n",
    "\n",
    "\\end{array}\n",
    "$$\n",
    "\n",
    "We recognize the equilibrium point in r=0, and a limit cycle at $r=\\sqrt{\\mu}$.\n",
    "\n",
    "\n",
    "\n",
    "Use the slider in the figure below to see how the two limit cycles occur, how the unstable inner collide with the stable origin, making it unstable. "
   ]
  },
  {
   "cell_type": "code",
   "execution_count": 91,
   "metadata": {},
   "outputs": [
    {
     "data": {
      "application/vnd.jupyter.widget-view+json": {
       "model_id": "7ad5cf1e552b48a9862b2ccc0d721554",
       "version_major": 2,
       "version_minor": 0
      },
      "text/plain": [
       "interactive(children=(FloatSlider(value=-0.5, description='mu', max=0.5, min=-0.5, step=0.05), Output()), _dom…"
      ]
     },
     "execution_count": 91,
     "metadata": {},
     "output_type": "execute_result"
    }
   ],
   "source": [
    "def rhs_sup_hopf(t,xy,mu=-1): # Define the right hand side.\n",
    "    # In order to use the phase_portraits.py file we need to be in the (x,y) coordinates. \n",
    "    x,y=xy\n",
    "    dx=(mu-(x**2+y**2))*x-y \n",
    "    dy= (mu-(x**2+y**2))*y+x \n",
    "    return [dx,dy]\n",
    "def plot_func(mu):\n",
    "    fig, ax = plt.subplots(1, 1)\n",
    "    ax.set_xlabel('X')\n",
    "    ax.set_ylabel('Y')\n",
    "    ax.set_aspect('equal')\n",
    "\n",
    "    \n",
    "    rrange=0.5\n",
    "    ax=plot_flow(ax,rhs_sup_hopf,xrange=[-rrange,rrange],yrange=[-rrange,rrange],nullclines=False,  args=mu) # This plots the flow\n",
    "    ax=plot_solution(ax,rhs_sup_hopf,y0=[0.01,0.],t_end=100,t_dim=2000,color='green',init_pt=False,linewidth=2.5,args=[mu]) # In these two lines we plot two paths\n",
    "    ax=plot_solution(ax,rhs_sup_hopf,y0=[0.5,0.],t_end=100,t_dim=2000,color='orange',init_pt=False,linewidth=1.5,args=[mu]) # change y0 to plot others. \n",
    "    ax.set_xlim([-rrange, rrange])\n",
    "    ax.set_ylim([-rrange, rrange])\n",
    "    if mu<=0:\n",
    "        ax.set_title(f'Stable spiral at r=0')\n",
    "    else:\n",
    "        ax.set_title(f'Limit cycles at r={np.sqrt(mu):.2f}')\n",
    "    plt.show()\n",
    "w=interactive(plot_func, mu=(-0.5,0.5,0.05))\n",
    "\n",
    "w.children[0].value = -0.5  # Set the start value for mu\n",
    "w"
   ]
  },
  {
   "cell_type": "markdown",
   "metadata": {},
   "source": [
    "\n",
    "## Subcritical Hopf\n",
    "This problem is given in polar coordinates. So $x=r cos(\\theta)$ and $y=r sin(\\theta)$, where $r$ is the distance from origo and $theta$ is the angle between the position vector and the positive $x€-axis. \n",
    "\n",
    "$$ \\begin{array}{rcl}\n",
    "\n",
    "\\dot{r} &=& \\mu r + r^3 - r^5 \\\\\n",
    "\\dot{\\theta} &=&-1 \\\\ \n",
    "\n",
    "\\end{array}\n",
    "$$\n",
    "\n",
    "When $\\dot{r}=0$ the paths will have constant distance, $r$, to origin. This happens when \n",
    "$$\n",
    " -r(r-r_{-})(r-r_{+})=0\n",
    "$$\n",
    "where \n",
    "$$\n",
    "\\begin{array}{rclcl}\n",
    " r &=& 0 \\\\\n",
    " r &=& r_{-} &=& \\sqrt{\\frac{1}{2}\\left(1-\\sqrt{1+4\\mu} \\right)} \\\\\n",
    " r &=& r_{+} &=& \\sqrt{\\frac{1}{2}\\left(1+\\sqrt{1+4\\mu} \\right)}\\\\\n",
    "\\end{array}\n",
    "$$\n",
    "\n",
    "Use the slider in the figure below to see how the two limit cycles occur, how the unstable inner collide with the stable origin, making it unstable. "
   ]
  },
  {
   "cell_type": "code",
   "execution_count": 93,
   "metadata": {},
   "outputs": [],
   "source": [
    "def rhs_sub_hopf(t,xy,mu=-1): # Define the right hand side.\n",
    "    # In order to use the phase_portraits.py file we need to be in the (x,y) coordinates. \n",
    "    x,y=xy\n",
    "    r=np.sqrt(x**2+y**2) # Calculate the distance from origo.\n",
    "    theta=np.arctan2(y,x) # Calculate theta.\n",
    "    dr= mu*r+r**3-r**5 # calculate dr/dt.\n",
    "    dtheta= -1 # Calculate d theta/dt.\n",
    "    dx=dr*np.cos(theta)-r*dtheta*np.sin(theta) # Find dx/dt.\n",
    "    dy=dr*np.sin(theta)+r*dtheta*np.cos(theta) # and dy/dt.\n",
    "    return [dx,dy]\n"
   ]
  },
  {
   "cell_type": "code",
   "execution_count": 94,
   "metadata": {},
   "outputs": [
    {
     "data": {
      "application/vnd.jupyter.widget-view+json": {
       "model_id": "c2e9c110d1fe4fec953712771cede43e",
       "version_major": 2,
       "version_minor": 0
      },
      "text/plain": [
       "interactive(children=(FloatSlider(value=0.25, description='mu', max=1.0, min=-1.0, step=0.05), Output()), _dom…"
      ]
     },
     "execution_count": 94,
     "metadata": {},
     "output_type": "execute_result"
    }
   ],
   "source": [
    "def plot_func(mu):\n",
    "    fig, ax = plt.subplots(1, 1)\n",
    "    ax.set_xlabel('X')\n",
    "    ax.set_ylabel('Y')\n",
    "    ax.set_aspect('equal')\n",
    "\n",
    "    \n",
    "    rrange=1.5\n",
    "    ax=plot_flow(ax,rhs_sub_hopf,xrange=[-rrange,rrange],yrange=[-rrange,rrange],nullclines=False,  args=mu) # This plots the flow\n",
    "    ax=plot_solution(ax,rhs_sub_hopf,y0=[0.1,0.],t_end=100,t_dim=2000,color='green',init_pt=False,linewidth=2.5,args=[mu]) # In these two lines we plot two paths\n",
    "    ax=plot_solution(ax,rhs_sub_hopf,y0=[1.9,0.],t_end=100,t_dim=2000,color='orange',init_pt=False,linewidth=1.5,args=[mu]) # change y0 to plot others. \n",
    "    r_plus=0\n",
    "    r_minus=0\n",
    "    if (mu >= -0.25): # Check if we get imaginary values for the innermost square root. \n",
    "        r_plus=np.sqrt(0.5+0.5*np.sqrt(1+4*mu))\n",
    "        if ((0.5-0.5*np.sqrt(1+4*mu))>=0): # Check if the outer square root gives an imaginary number, i.e the inner limit cycle doesn't exist.\n",
    "            r_minus=np.sqrt(0.5-0.5*np.sqrt(1+4*mu))\n",
    "            ax=plot_jordan(ax,rhs_sub_hopf,r0=[0,0],rr=r_minus,num=25,vectors=False, color='blue',linewidth=2.5,linestyle='dashed',args=[mu]) # Jordan curve for the outer limit cycle. \n",
    "            ax=plot_solution(ax,rhs_sub_hopf,y0=[r_minus+0.01,0.],t_end=100,t_dim=2000,color='blue',init_pt=False,linewidth=1.,args=[mu])\n",
    "            ax=plot_solution(ax,rhs_sub_hopf,y0=[r_minus-0.01,0.],t_end=100,t_dim=2000,color='blue',init_pt=False,linewidth=1.,args=[mu])\n",
    "        ax=plot_jordan(ax,rhs_sub_hopf,r0=[0,0],rr=r_plus,num=25,vectors=False, color='orange',linewidth=2.5,args=[mu]) # Jordan curve for the outer limit cycle. \n",
    "    ax.set_xlim([-rrange, rrange])\n",
    "    ax.set_ylim([-rrange, rrange])\n",
    "    ax.set_title(f'Limit cycles at r$_-$={r_minus:.2f} and r$_+$={r_plus:.2f}')\n",
    "    plt.show()\n",
    "w=interactive(plot_func, mu=(-1,1,0.05))\n",
    "\n",
    "w.children[0].value = 0.25  # Set the start value for mu\n",
    "w"
   ]
  },
  {
   "cell_type": "markdown",
   "metadata": {},
   "source": [
    "# Infinite period bifurcation\n",
    "Look at the following system given in polar coordinates. \n",
    "$$\n",
    "\\dot{r}=r(1-r^2) \\\\\n",
    "\\dot{\\theta}=\\mu-\\sin(\\theta)\n",
    "$$\n",
    "\n",
    "<font color='green'> Does the system have any equilibrium points? If so, are they stable?\n",
    "\n",
    "How about limit cycles?</font> \n",
    "\n"
   ]
  },
  {
   "cell_type": "code",
   "execution_count": 95,
   "metadata": {},
   "outputs": [
    {
     "data": {
      "application/vnd.jupyter.widget-view+json": {
       "model_id": "d844e8fabe4047828314907ebfa52256",
       "version_major": 2,
       "version_minor": 0
      },
      "text/plain": [
       "interactive(children=(FloatSlider(value=1.5, description='mu', max=1.5, min=-1.5, step=0.05), Output()), _dom_…"
      ]
     },
     "execution_count": 95,
     "metadata": {},
     "output_type": "execute_result"
    }
   ],
   "source": [
    "def rhs_inf_period(t,xy,mu=-1): # Define the right hand side.\n",
    "    # In order to use the phase_portraits.py file we need to be in the (x,y) coordinates. \n",
    "    x,y=xy\n",
    "    r=np.sqrt(x**2+y**2) # Calculate the distance from origo.\n",
    "    theta=np.arctan2(y,x) # Calculate theta.\n",
    "    dr= r*(1-r**2) # calculate dr/dt.\n",
    "    dtheta= mu-np.sin(theta) # Calculate d theta/dt.\n",
    "    dx=dr*np.cos(theta)-r*dtheta*np.sin(theta) # Find dx/dt.\n",
    "    dy=dr*np.sin(theta)+r*dtheta*np.cos(theta) # and dy/dt.\n",
    "    return [dx,dy]\n",
    "\n",
    "def plot_func(mu):\n",
    "    fig, ax = plt.subplots(1, 1)\n",
    "    ax.set_xlabel('X')\n",
    "    ax.set_ylabel('Y')\n",
    "    ax.set_aspect('equal')\n",
    "\n",
    "    rrange=1.5\n",
    "\n",
    "    ax=plot_flow(ax,rhs_inf_period,xrange=[-rrange,rrange],yrange=[-rrange,rrange],nullclines=False,  args=mu) # This plots the flow\n",
    "    ax=plot_solution(ax,rhs_inf_period,y0=[0.,0.01],t_end=100,t_dim=2000,color='green',init_pt=True,linewidth=2.5,args=[mu]) # In these two lines we plot two paths\n",
    "    \n",
    "    if mu <=1 and mu>=-1:\n",
    "        theta_0 = np.arcsin(mu)\n",
    "        theta_1 = np.pi-theta_0\n",
    "        \n",
    "        x1=np.cos(theta_1+0.01)\n",
    "        y1=np.sin(theta_1+0.01)\n",
    "        ax=plot_solution(ax,rhs_inf_period,y0=[x1,y1],t_end=100,t_dim=2000,color='orange',init_pt=True,linewidth=1.5,args=[mu]) # change y0 to plot others. \n",
    "        x1=np.cos(theta_1-0.01)\n",
    "        y1=np.sin(theta_1-0.01)\n",
    "        ax=plot_solution(ax,rhs_inf_period,y0=[x1,y1],t_end=100,t_dim=2000,color='orange',init_pt=True,linewidth=1.5,args=[mu])\n",
    "        x1=1.01*np.cos(theta_1)\n",
    "        y1=1.01*np.sin(theta_1)\n",
    "        ax=plot_solution(ax,rhs_inf_period,y0=[x1,y1],t_end=-100,t_dim=2000,color='orange',init_pt=True,linewidth=1.5,args=[mu])\n",
    "        x1=0.99*np.cos(theta_1)\n",
    "        y1=0.99*np.sin(theta_1)\n",
    "        ax=plot_solution(ax,rhs_inf_period,y0=[x1,y1],t_end=-100,t_dim=2000,color='orange',init_pt=True,linewidth=1.5,args=[mu]) \n",
    "        x0=np.cos(theta_0+0.01)\n",
    "        y0=np.sin(theta_0+0.01)\n",
    "        ax=plot_solution(ax,rhs_inf_period,y0=[x0,y0],t_end=-100,t_dim=2000,color='red',init_pt=True,linewidth=1.5,args=[mu])# change y0 to plot others. \n",
    "    else:\n",
    "        x1=1*np.cos(np.pi/2+0.01)\n",
    "        y1=1*np.sin(np.pi/2+0.01)\n",
    "        ax=plot_solution(ax,rhs_inf_period,y0=[x1,y1],t_end=500,t_dim=2000,color='orange',init_pt=True,linewidth=1.5,args=[mu]) # change y0 to plot others. \n",
    "\n",
    "    ax.set_xlim([-rrange, rrange])\n",
    "    ax.set_ylim([-rrange, rrange])\n",
    "    plt.show()\n",
    "w=interactive(plot_func, mu=(-1.5,1.5,0.05))\n",
    "\n",
    "w.children[0].value = 1.5  # Set the start value for mu\n",
    "w"
   ]
  },
  {
   "cell_type": "markdown",
   "metadata": {},
   "source": [
    "## Example 4 on P 177\n",
    "$$\n",
    "\n",
    "\\dot{x} = x (1 − x^2 − y^2) − y(1 + \\gamma + x)\\\\\n",
    "\\dot{y} = y (1 − x^2 − y^2) + x(1 + \\gamma + x)\n",
    "\n",
    "$$"
   ]
  },
  {
   "cell_type": "code",
   "execution_count": 96,
   "metadata": {},
   "outputs": [
    {
     "data": {
      "application/vnd.jupyter.widget-view+json": {
       "model_id": "f78da61531924b52b6134745fc12df60",
       "version_major": 2,
       "version_minor": 0
      },
      "text/plain": [
       "interactive(children=(FloatSlider(value=1.5, description='mu', max=1.5, min=-2.5, step=0.05), Output()), _dom_…"
      ]
     },
     "execution_count": 96,
     "metadata": {},
     "output_type": "execute_result"
    }
   ],
   "source": [
    "def rhs_example4(t,xy,mu=-1): # Define the right hand side.\n",
    "    # In order to use the phase_portraits.py file we need to be in the (x,y) coordinates. \n",
    "    x,y=xy\n",
    "    \n",
    "    dx=x*(1-x**2-y**2) - y*(1+mu+x) # Find dx/dt.\n",
    "    dy=y*(1-x**2-y**2) + x*(1+mu+x) # and dy/dt.\n",
    "    return [dx,dy]\n",
    "\n",
    "def plot_func(mu):\n",
    "    fig, ax = plt.subplots(1, 1)\n",
    "    ax.set_xlabel('X')\n",
    "    ax.set_ylabel('Y')\n",
    "    ax.set_aspect('equal')\n",
    "\n",
    "    rrange=2.5\n",
    "\n",
    "    ax=plot_flow(ax,rhs_example4,xrange=[-rrange,rrange],yrange=[-rrange,rrange],nullclines=False,  args=mu) # This plots the flow\n",
    "    print(-1-mu)\n",
    "    if mu <= 0 and mu >= -2:   \n",
    "        A =  np.arccos(-1-mu)   \n",
    "        plot_point(ax, [np.cos(A), np.sin(A)], color='black', markersize=20)\n",
    "        \n",
    "        plot_point(ax, [np.cos(-A), np.sin(-A)], color='black', markersize=20)\n",
    "        \n",
    "    ax=plot_solution(ax,rhs_example4,y0=[0.01,0.],t_end=100,t_dim=2000,color='green',init_pt=False,linewidth=2.5,args=[mu])\n",
    "        \n",
    "    \n",
    "    \n",
    "    ax.set_xlim([-rrange, rrange])\n",
    "    ax.set_ylim([-rrange, rrange])\n",
    "    plt.show()\n",
    "w=interactive(plot_func, mu=(-2.5,1.5,0.05))\n",
    "\n",
    "w.children[0].value = 1.5  # Set the start value for mu\n",
    "w"
   ]
  },
  {
   "cell_type": "markdown",
   "metadata": {},
   "source": [
    "## Exercise 5\n",
    "From the phase plane exercises.\n",
    "Given the following system in polar coordinates:\n",
    "$$\n",
    "\\begin{array}{rl}\n",
    " \\dot{r} = & r(1-r^2)+ \\mu r \\cos(\\theta)\\\\[0.5pt]\n",
    " \\dot{\\theta} = & 1\n",
    "\\end{array}\n",
    "$$"
   ]
  },
  {
   "cell_type": "code",
   "execution_count": 99,
   "metadata": {},
   "outputs": [
    {
     "data": {
      "application/vnd.jupyter.widget-view+json": {
       "model_id": "2e604899d9ff4d31a0d3ef1099080023",
       "version_major": 2,
       "version_minor": 0
      },
      "text/plain": [
       "interactive(children=(FloatSlider(value=0.0, description='mu', max=1.5, min=-1.5, step=0.05), Output()), _dom_…"
      ]
     },
     "execution_count": 99,
     "metadata": {},
     "output_type": "execute_result"
    }
   ],
   "source": [
    "def rhs_5_polar(t,rtheta,mu=1):\n",
    "    r,theta=rtheta\n",
    "    dr= r*(1-r**2)+mu*r*np.cos(theta)\n",
    "    dtheta= 1\n",
    "    return [dr,dtheta]\n",
    "\n",
    "\n",
    "def rhs_5(t,xy,mu=1):\n",
    "    x,y=xy\n",
    "    r=np.sqrt(x**2+y**2)\n",
    "    theta=np.arctan2(y,x)\n",
    "    dr, dtheta=rhs_5_polar(t,[r,theta],mu)\n",
    "    dx=dr*np.cos(theta)-r*np.sin(theta)*dtheta\n",
    "    dy=dr*np.sin(theta)+r*np.cos(theta)*dtheta\n",
    "    return [dx,dy]\n",
    "\n",
    "  # the coordinates for the centre of the circle\n",
    "\n",
    "def plot_func(mu):\n",
    "  fig, ax = plt.subplots(1, 1)\n",
    "  ax.set_xlabel('X')\n",
    "  ax.set_ylabel('Y')\n",
    "  ax.set_aspect('equal')\n",
    "\n",
    "  rrange=2\n",
    "  ax=plot_flow(ax,rhs_5,xrange=[-rrange,rrange],yrange=[-rrange,rrange],nullclines=False,args=mu) # This plots the flow\n",
    "  if mu <= 1:\n",
    "    plot_jordan(ax,rhs_5,r0=[0,0],rr=0.99*np.sqrt(1-mu),num=25,vectors=True, color='blue',linewidth=1.5,args=mu)\n",
    "  plot_jordan(ax,rhs_5,r0=[0,0],rr=1.01*np.sqrt(1+mu),num=25,vectors=True, color='blue',linewidth=1.5,args=mu)\n",
    "  plot_solution(ax,rhs_5,[0.01,0.1],t_end=10,color='green',init_pt=True,linewidth=2.5,args=[mu])\n",
    "  plot_solution(ax,rhs_5,[1.5,1.5],t_end=10,color='orange',init_pt=True,linewidth=2.5,args=[mu])\n",
    "  plt.show()\n",
    "#plot_jordan(ax,rhs_2,r0=[0,0],rr=2*np.pi,num=25,vectors=True, color='blue',linewidth=1.5)\n",
    "#plot_jordan(ax,rhs_2,r0=[0,0],rr=3*np.pi,num=25,vectors=True, color='blue',linewidth=1.5)\n",
    "w=interactive(plot_func, mu=(-1.5,1.5,0.05))\n",
    "\n",
    "w.children[0].value = 0  # Set the start value for mu\n",
    "w\n"
   ]
  },
  {
   "cell_type": "code",
   "execution_count": null,
   "metadata": {},
   "outputs": [],
   "source": []
  }
 ],
 "metadata": {
  "kernelspec": {
   "display_name": "base",
   "language": "python",
   "name": "python3"
  },
  "language_info": {
   "codemirror_mode": {
    "name": "ipython",
    "version": 3
   },
   "file_extension": ".py",
   "mimetype": "text/x-python",
   "name": "python",
   "nbconvert_exporter": "python",
   "pygments_lexer": "ipython3",
   "version": "3.10.13"
  }
 },
 "nbformat": 4,
 "nbformat_minor": 2
}
